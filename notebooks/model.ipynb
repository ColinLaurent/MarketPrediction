{
 "cells": [
  {
   "cell_type": "code",
   "execution_count": 1,
   "id": "ce82ab35",
   "metadata": {},
   "outputs": [],
   "source": [
    "import pandas as pd\n",
    "import yfinance as yf\n",
    "import plotly.graph_objects as go\n",
    "\n",
    "from sklearn.linear_model import LinearRegression\n",
    "\n",
    "from marketprediction import config\n",
    "from marketprediction import utils\n",
    "from marketprediction import plots"
   ]
  },
  {
   "cell_type": "code",
   "execution_count": 2,
   "id": "111d7996",
   "metadata": {},
   "outputs": [],
   "source": [
    "tickers = ['AAPL', 'MSFT']\n",
    "dfs = {}\n",
    "for ticker in tickers:\n",
    "    dfs[ticker] = (\n",
    "        pd.read_excel(config.DATA_FILE, ticker)\n",
    "        .set_index('Date')\n",
    "        .rename(columns={f\"{metric}\": f\"{metric} {ticker}\" for metric in ['Close', 'High', 'Low', 'Open', 'Volume']})\n",
    "    )\n",
    "data = dfs[tickers[0]]\n",
    "for ticker in tickers[1:]:\n",
    "    data = data.join(dfs[ticker])"
   ]
  },
  {
   "cell_type": "code",
   "execution_count": null,
   "id": "1e340680",
   "metadata": {},
   "outputs": [],
   "source": [
    "metric = 'Close'\n",
    "ticker = 'AAPL'\n",
    "\n",
    "fig = go.Figure()\n",
    "fig.add_trace(go.Scatter(x=data.index, y=data[f'{metric} {ticker}']))\n",
    "fig.update_layout(title=f'{metric} {ticker}')\n",
    "fig.show()"
   ]
  },
  {
   "cell_type": "code",
   "execution_count": null,
   "id": "6e51f156",
   "metadata": {},
   "outputs": [],
   "source": [
    "strategy = utils.MovingAverageStrategy()\n",
    "bt = utils.Backtester(tickers, data, strategy, initial_capital=50)\n",
    "bt.run()\n",
    "wallet = bt.wallet\n",
    "\n",
    "plots.plot_return(wallet, data, tickers)"
   ]
  },
  {
   "cell_type": "code",
   "execution_count": null,
   "id": "49dc0e3b",
   "metadata": {},
   "outputs": [],
   "source": []
  }
 ],
 "metadata": {
  "kernelspec": {
   "display_name": "venv",
   "language": "python",
   "name": "python3"
  },
  "language_info": {
   "codemirror_mode": {
    "name": "ipython",
    "version": 3
   },
   "file_extension": ".py",
   "mimetype": "text/x-python",
   "name": "python",
   "nbconvert_exporter": "python",
   "pygments_lexer": "ipython3",
   "version": "3.13.2"
  }
 },
 "nbformat": 4,
 "nbformat_minor": 5
}
